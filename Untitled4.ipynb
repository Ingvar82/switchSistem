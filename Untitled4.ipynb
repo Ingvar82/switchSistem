{
 "cells": [
  {
   "cell_type": "code",
   "execution_count": 46,
   "id": "7e4780bd",
   "metadata": {},
   "outputs": [
    {
     "name": "stdout",
     "output_type": "stream",
     "text": [
      "Interface              IP-Address      OK? Method Status                Protocol\n",
      "GigabitEthernet0/0     unassigned      YES unset  up                    up      \n",
      "GigabitEthernet0/1     unassigned      YES unset  up                    up      \n",
      "GigabitEthernet0/2     unassigned      YES unset  up                    up      \n",
      "GigabitEthernet0/3     unassigned      YES unset  up                    up      \n",
      "GigabitEthernet1/0     unassigned      YES unset  up                    up      \n",
      "GigabitEthernet1/1     unassigned      YES unset  up                    up      \n",
      "GigabitEthernet1/2     unassigned      YES unset  up                    up      \n",
      "GigabitEthernet1/3     unassigned      YES unset  up                    up      \n",
      "Port-channel3          unassigned      YES unset  up                    up      \n",
      "Port-channel2          unassigned      YES unset  up                    up      \n",
      "Vlan2                  10.1.1.5        YES NVRAM  up                    up      \n",
      "Vlan5                  192.168.10.5    YES NVRAM  up                    up      \n",
      "Vlan100                10.1.2.5        YES NVRAM  up                    up      \n"
     ]
    },
    {
     "ename": "ReadTimeout",
     "evalue": "\nPattern not detected: 'SW_R0_R1\\\\#' in output.\n\nThings you might try to fix this:\n1. Explicitly set your pattern using the expect_string argument.\n2. Increase the read_timeout to a larger value.\n\nYou can also look at the Netmiko session_log or debug log for more information.\n\n",
     "output_type": "error",
     "traceback": [
      "\u001b[1;31m---------------------------------------------------------------------------\u001b[0m",
      "\u001b[1;31mReadTimeout\u001b[0m                               Traceback (most recent call last)",
      "\u001b[1;32m~\\AppData\\Local\\Temp\\ipykernel_17208\\3113501705.py\u001b[0m in \u001b[0;36m<module>\u001b[1;34m\u001b[0m\n\u001b[0;32m     15\u001b[0m \u001b[0mprint\u001b[0m\u001b[1;33m(\u001b[0m\u001b[0moutput\u001b[0m\u001b[1;33m)\u001b[0m\u001b[1;33m\u001b[0m\u001b[1;33m\u001b[0m\u001b[0m\n\u001b[0;32m     16\u001b[0m \u001b[1;33m\u001b[0m\u001b[0m\n\u001b[1;32m---> 17\u001b[1;33m \u001b[0mnet_connect\u001b[0m\u001b[1;33m.\u001b[0m\u001b[0msend_command\u001b[0m\u001b[1;33m(\u001b[0m\u001b[1;34m'clear line vty 0'\u001b[0m\u001b[1;33m)\u001b[0m\u001b[1;33m\u001b[0m\u001b[1;33m\u001b[0m\u001b[0m\n\u001b[0m\u001b[0;32m     18\u001b[0m \u001b[0mnet_connect\u001b[0m\u001b[1;33m.\u001b[0m\u001b[0msend_command\u001b[0m\u001b[1;33m(\u001b[0m\u001b[1;34m'clear line vty 1'\u001b[0m\u001b[1;33m)\u001b[0m\u001b[1;33m\u001b[0m\u001b[1;33m\u001b[0m\u001b[0m\n\u001b[0;32m     19\u001b[0m \u001b[0mnet_connect\u001b[0m\u001b[1;33m.\u001b[0m\u001b[0msend_command\u001b[0m\u001b[1;33m(\u001b[0m\u001b[1;34m'clear line vty 2'\u001b[0m\u001b[1;33m)\u001b[0m\u001b[1;33m\u001b[0m\u001b[1;33m\u001b[0m\u001b[0m\n",
      "\u001b[1;32m~\\anaconda3\\lib\\site-packages\\netmiko\\utilities.py\u001b[0m in \u001b[0;36mwrapper_decorator\u001b[1;34m(self, *args, **kwargs)\u001b[0m\n\u001b[0;32m    590\u001b[0m         \u001b[1;32mif\u001b[0m \u001b[0mself\u001b[0m\u001b[1;33m.\u001b[0m\u001b[0mglobal_cmd_verify\u001b[0m \u001b[1;32mis\u001b[0m \u001b[1;32mnot\u001b[0m \u001b[1;32mNone\u001b[0m\u001b[1;33m:\u001b[0m\u001b[1;33m\u001b[0m\u001b[1;33m\u001b[0m\u001b[0m\n\u001b[0;32m    591\u001b[0m             \u001b[0mkwargs\u001b[0m\u001b[1;33m[\u001b[0m\u001b[1;34m\"cmd_verify\"\u001b[0m\u001b[1;33m]\u001b[0m \u001b[1;33m=\u001b[0m \u001b[0mself\u001b[0m\u001b[1;33m.\u001b[0m\u001b[0mglobal_cmd_verify\u001b[0m\u001b[1;33m\u001b[0m\u001b[1;33m\u001b[0m\u001b[0m\n\u001b[1;32m--> 592\u001b[1;33m         \u001b[1;32mreturn\u001b[0m \u001b[0mfunc\u001b[0m\u001b[1;33m(\u001b[0m\u001b[0mself\u001b[0m\u001b[1;33m,\u001b[0m \u001b[1;33m*\u001b[0m\u001b[0margs\u001b[0m\u001b[1;33m,\u001b[0m \u001b[1;33m**\u001b[0m\u001b[0mkwargs\u001b[0m\u001b[1;33m)\u001b[0m\u001b[1;33m\u001b[0m\u001b[1;33m\u001b[0m\u001b[0m\n\u001b[0m\u001b[0;32m    593\u001b[0m \u001b[1;33m\u001b[0m\u001b[0m\n\u001b[0;32m    594\u001b[0m     \u001b[1;32mreturn\u001b[0m \u001b[0mcast\u001b[0m\u001b[1;33m(\u001b[0m\u001b[0mF\u001b[0m\u001b[1;33m,\u001b[0m \u001b[0mwrapper_decorator\u001b[0m\u001b[1;33m)\u001b[0m\u001b[1;33m\u001b[0m\u001b[1;33m\u001b[0m\u001b[0m\n",
      "\u001b[1;32m~\\anaconda3\\lib\\site-packages\\netmiko\\base_connection.py\u001b[0m in \u001b[0;36msend_command\u001b[1;34m(self, command_string, expect_string, read_timeout, delay_factor, max_loops, auto_find_prompt, strip_prompt, strip_command, normalize, use_textfsm, textfsm_template, use_ttp, ttp_template, use_genie, cmd_verify)\u001b[0m\n\u001b[0;32m   1719\u001b[0m \u001b[1;33m\u001b[0m\u001b[0m\n\u001b[0;32m   1720\u001b[0m \"\"\"\n\u001b[1;32m-> 1721\u001b[1;33m             \u001b[1;32mraise\u001b[0m \u001b[0mReadTimeout\u001b[0m\u001b[1;33m(\u001b[0m\u001b[0mmsg\u001b[0m\u001b[1;33m)\u001b[0m\u001b[1;33m\u001b[0m\u001b[1;33m\u001b[0m\u001b[0m\n\u001b[0m\u001b[0;32m   1722\u001b[0m \u001b[1;33m\u001b[0m\u001b[0m\n\u001b[0;32m   1723\u001b[0m         output = self._sanitize_output(\n",
      "\u001b[1;31mReadTimeout\u001b[0m: \nPattern not detected: 'SW_R0_R1\\\\#' in output.\n\nThings you might try to fix this:\n1. Explicitly set your pattern using the expect_string argument.\n2. Increase the read_timeout to a larger value.\n\nYou can also look at the Netmiko session_log or debug log for more information.\n\n"
     ]
    }
   ],
   "source": [
    "from netmiko import ConnectHandler\n",
    "\n",
    "SW1 = {\n",
    "    'device_type': 'cisco_ios',\n",
    "    'host': '192.168.10.5',\n",
    "    'username': 'admin',\n",
    "    'password': 'Qw123456',\n",
    "    'secret': 'Qw123456',\n",
    "    'port': 22,\n",
    "}\n",
    "\n",
    "net_connect = ConnectHandler(**SW1)\n",
    "\n",
    "output = net_connect.send_command('show ip int brief')\n",
    "print(output)\n",
    "\n",
    "net_connect.send_command('clear line vty 0')\n",
    "net_connect.send_command('clear line vty 1')\n",
    "net_connect.send_command('clear line vty 2')\n",
    "net_connect.send_command('clear line vty 3')\n",
    "net_connect.send_command('clear line vty 4')\n",
    "net_connect.disconnect"
   ]
  },
  {
   "cell_type": "code",
   "execution_count": null,
   "id": "6504098b",
   "metadata": {},
   "outputs": [],
   "source": []
  },
  {
   "cell_type": "code",
   "execution_count": null,
   "id": "85e83364",
   "metadata": {},
   "outputs": [],
   "source": []
  },
  {
   "cell_type": "code",
   "execution_count": null,
   "id": "a9f493d8",
   "metadata": {},
   "outputs": [],
   "source": []
  }
 ],
 "metadata": {
  "kernelspec": {
   "display_name": "Python 3 (ipykernel)",
   "language": "python",
   "name": "python3"
  },
  "language_info": {
   "codemirror_mode": {
    "name": "ipython",
    "version": 3
   },
   "file_extension": ".py",
   "mimetype": "text/x-python",
   "name": "python",
   "nbconvert_exporter": "python",
   "pygments_lexer": "ipython3",
   "version": "3.9.13"
  }
 },
 "nbformat": 4,
 "nbformat_minor": 5
}
