{
 "cells": [
  {
   "cell_type": "code",
   "execution_count": 1,
   "id": "04a55e1d",
   "metadata": {},
   "outputs": [
    {
     "name": "stderr",
     "output_type": "stream",
     "text": [
      "C:\\Users\\KOMP\\anaconda3\\lib\\site-packages\\paramiko\\transport.py:219: CryptographyDeprecationWarning: Blowfish has been deprecated\n",
      "  \"class\": algorithms.Blowfish,\n"
     ]
    },
    {
     "ename": "ValueError",
     "evalue": "Missing or invalid config file -f",
     "output_type": "error",
     "traceback": [
      "\u001b[1;31m---------------------------------------------------------------------------\u001b[0m",
      "\u001b[1;31mValueError\u001b[0m                                Traceback (most recent call last)",
      "\u001b[1;32m~\\AppData\\Local\\Temp\\ipykernel_16756\\557615296.py\u001b[0m in \u001b[0;36m<module>\u001b[1;34m\u001b[0m\n\u001b[0;32m     65\u001b[0m         \u001b[0msys\u001b[0m\u001b[1;33m.\u001b[0m\u001b[0mexit\u001b[0m\u001b[1;33m(\u001b[0m\u001b[1;36m1\u001b[0m\u001b[1;33m)\u001b[0m\u001b[1;33m\u001b[0m\u001b[1;33m\u001b[0m\u001b[0m\n\u001b[0;32m     66\u001b[0m     \u001b[0mconfig_file\u001b[0m \u001b[1;33m=\u001b[0m \u001b[0msys\u001b[0m\u001b[1;33m.\u001b[0m\u001b[0margv\u001b[0m\u001b[1;33m[\u001b[0m\u001b[1;36m1\u001b[0m\u001b[1;33m]\u001b[0m\u001b[1;33m\u001b[0m\u001b[1;33m\u001b[0m\u001b[0m\n\u001b[1;32m---> 67\u001b[1;33m     \u001b[0mmain\u001b[0m\u001b[1;33m(\u001b[0m\u001b[0mconfig_file\u001b[0m\u001b[1;33m)\u001b[0m\u001b[1;33m\u001b[0m\u001b[1;33m\u001b[0m\u001b[0m\n\u001b[0m",
      "\u001b[1;32m~\\AppData\\Local\\Temp\\ipykernel_16756\\557615296.py\u001b[0m in \u001b[0;36mmain\u001b[1;34m(config_file)\u001b[0m\n\u001b[0;32m     17\u001b[0m     \u001b[1;32mif\u001b[0m \u001b[1;32mnot\u001b[0m \u001b[1;33m(\u001b[0m\u001b[0mos\u001b[0m\u001b[1;33m.\u001b[0m\u001b[0mpath\u001b[0m\u001b[1;33m.\u001b[0m\u001b[0mexists\u001b[0m\u001b[1;33m(\u001b[0m\u001b[0mconfig_file\u001b[0m\u001b[1;33m)\u001b[0m \u001b[1;32mand\u001b[0m \u001b[0mos\u001b[0m\u001b[1;33m.\u001b[0m\u001b[0mpath\u001b[0m\u001b[1;33m.\u001b[0m\u001b[0misfile\u001b[0m\u001b[1;33m(\u001b[0m\u001b[0mconfig_file\u001b[0m\u001b[1;33m)\u001b[0m\u001b[1;33m)\u001b[0m\u001b[1;33m:\u001b[0m\u001b[1;33m\u001b[0m\u001b[1;33m\u001b[0m\u001b[0m\n\u001b[0;32m     18\u001b[0m         \u001b[0mmsg\u001b[0m \u001b[1;33m=\u001b[0m \u001b[1;34m\"Missing or invalid config file {0}\"\u001b[0m\u001b[1;33m.\u001b[0m\u001b[0mformat\u001b[0m\u001b[1;33m(\u001b[0m\u001b[0mconfig_file\u001b[0m\u001b[1;33m)\u001b[0m\u001b[1;33m\u001b[0m\u001b[1;33m\u001b[0m\u001b[0m\n\u001b[1;32m---> 19\u001b[1;33m         \u001b[1;32mraise\u001b[0m \u001b[0mValueError\u001b[0m\u001b[1;33m(\u001b[0m\u001b[0mmsg\u001b[0m\u001b[1;33m)\u001b[0m\u001b[1;33m\u001b[0m\u001b[1;33m\u001b[0m\u001b[0m\n\u001b[0m\u001b[0;32m     20\u001b[0m \u001b[1;33m\u001b[0m\u001b[0m\n\u001b[0;32m     21\u001b[0m     \u001b[0mprint\u001b[0m\u001b[1;33m(\u001b[0m\u001b[1;34m\"Loading config file {0}.\"\u001b[0m\u001b[1;33m.\u001b[0m\u001b[0mformat\u001b[0m\u001b[1;33m(\u001b[0m\u001b[0mconfig_file\u001b[0m\u001b[1;33m)\u001b[0m\u001b[1;33m)\u001b[0m\u001b[1;33m\u001b[0m\u001b[1;33m\u001b[0m\u001b[0m\n",
      "\u001b[1;31mValueError\u001b[0m: Missing or invalid config file -f"
     ]
    }
   ],
   "source": [
    "# Sample script to demonstrate loading a config for a device.\n",
    "#\n",
    "# Note: this script is as simple as possible: it assumes that you have\n",
    "# followed the lab setup in the quickstart tutorial, and so hardcodes\n",
    "# the device IP and password.  You should also have the\n",
    "# 'new_good.conf' configuration saved to disk.\n",
    "from __future__ import print_function\n",
    "\n",
    "import napalm\n",
    "import sys\n",
    "import os\n",
    "\n",
    "\n",
    "def main(config_file):\n",
    "    \"\"\"Load a config for the device.\"\"\"\n",
    "\n",
    "    if not (os.path.exists(config_file) and os.path.isfile(config_file)):\n",
    "        msg = \"Missing or invalid config file {0}\".format(config_file)\n",
    "        raise ValueError(msg)\n",
    "\n",
    "    print(\"Loading config file {0}.\".format(config_file))\n",
    "\n",
    "    # Use the appropriate network driver to connect to the device:\n",
    "    driver = napalm.get_network_driver(\"eos\")\n",
    "\n",
    "    # Connect:\n",
    "    device = driver(\n",
    "        hostname=\"192.168.10.5\",\n",
    "        username=\"admin\",\n",
    "        password=\"Qw123456\",\n",
    "        optional_args={\"port\": 22},\n",
    "    )\n",
    "\n",
    "    print(\"Opening ...\")\n",
    "    device.open()\n",
    "\n",
    "    print(\"Loading replacement candidate ...\")\n",
    "    device.load_replace_candidate(filename=config_file)\n",
    "\n",
    "    # Note that the changes have not been applied yet. Before applying\n",
    "    # the configuration you can check the changes:\n",
    "    print(\"\\nDiff:\")\n",
    "    print(device.compare_config())\n",
    "\n",
    "    # You can commit or discard the candidate changes.\n",
    "    try:\n",
    "        choice = raw_input(\"\\nWould you like to commit these changes? [yN]: \")\n",
    "    except NameError:\n",
    "        choice = input(\"\\nWould you like to commit these changes? [yN]: \")\n",
    "    if choice == \"y\":\n",
    "        print(\"Committing ...\")\n",
    "        device.commit_config()\n",
    "    else:\n",
    "        print(\"Discarding ...\")\n",
    "        device.discard_config()\n",
    "\n",
    "    # close the session with the device.\n",
    "    device.close()\n",
    "    print(\"Done.\")\n",
    "\n",
    "\n",
    "if __name__ == \"__main__\":\n",
    "    if len(sys.argv) < 2:\n",
    "        print('Please supply the full path to \"new_good.conf\"')\n",
    "        sys.exit(1)\n",
    "    config_file = sys.argv[1]\n",
    "    main(config_file)"
   ]
  },
  {
   "cell_type": "code",
   "execution_count": 4,
   "id": "ec007950",
   "metadata": {},
   "outputs": [
    {
     "ename": "ModuleImportError",
     "evalue": "Cannot import \"iso\". Is the library installed?",
     "output_type": "error",
     "traceback": [
      "\u001b[1;31m---------------------------------------------------------------------------\u001b[0m",
      "\u001b[1;31mModuleImportError\u001b[0m                         Traceback (most recent call last)",
      "\u001b[1;32m~\\AppData\\Local\\Temp\\ipykernel_16756\\3922231131.py\u001b[0m in \u001b[0;36m<module>\u001b[1;34m\u001b[0m\n\u001b[0;32m      1\u001b[0m \u001b[1;32mfrom\u001b[0m \u001b[0mnapalm\u001b[0m \u001b[1;32mimport\u001b[0m \u001b[0mget_network_driver\u001b[0m\u001b[1;33m\u001b[0m\u001b[1;33m\u001b[0m\u001b[0m\n\u001b[1;32m----> 2\u001b[1;33m \u001b[0mdriver\u001b[0m \u001b[1;33m=\u001b[0m \u001b[0mget_network_driver\u001b[0m\u001b[1;33m(\u001b[0m\u001b[1;34m'iso'\u001b[0m\u001b[1;33m)\u001b[0m\u001b[1;33m\u001b[0m\u001b[1;33m\u001b[0m\u001b[0m\n\u001b[0m\u001b[0;32m      3\u001b[0m \u001b[0mdevice\u001b[0m \u001b[1;33m=\u001b[0m \u001b[0mdriver\u001b[0m\u001b[1;33m(\u001b[0m\u001b[1;34m'192.168.10.5'\u001b[0m\u001b[1;33m,\u001b[0m\u001b[1;34m'admin'\u001b[0m\u001b[1;33m,\u001b[0m\u001b[1;34m'Qw123456'\u001b[0m\u001b[1;33m)\u001b[0m\u001b[1;33m\u001b[0m\u001b[1;33m\u001b[0m\u001b[0m\n\u001b[0;32m      4\u001b[0m \u001b[0mdevice\u001b[0m\u001b[1;33m.\u001b[0m\u001b[0mopen\u001b[0m\u001b[1;33m(\u001b[0m\u001b[1;33m)\u001b[0m\u001b[1;33m\u001b[0m\u001b[1;33m\u001b[0m\u001b[0m\n",
      "\u001b[1;32m~\\anaconda3\\lib\\site-packages\\napalm\\base\\__init__.py\u001b[0m in \u001b[0;36mget_network_driver\u001b[1;34m(name, prepend)\u001b[0m\n\u001b[0;32m     97\u001b[0m             \u001b[1;32mraise\u001b[0m \u001b[0me\u001b[0m\u001b[1;33m\u001b[0m\u001b[1;33m\u001b[0m\u001b[0m\n\u001b[0;32m     98\u001b[0m     \u001b[1;32melse\u001b[0m\u001b[1;33m:\u001b[0m\u001b[1;33m\u001b[0m\u001b[1;33m\u001b[0m\u001b[0m\n\u001b[1;32m---> 99\u001b[1;33m         raise ModuleImportError(\n\u001b[0m\u001b[0;32m    100\u001b[0m             'Cannot import \"{install_name}\". Is the library installed?'.format(\n\u001b[0;32m    101\u001b[0m                 \u001b[0minstall_name\u001b[0m\u001b[1;33m=\u001b[0m\u001b[0mname\u001b[0m\u001b[1;33m\u001b[0m\u001b[1;33m\u001b[0m\u001b[0m\n",
      "\u001b[1;31mModuleImportError\u001b[0m: Cannot import \"iso\". Is the library installed?"
     ]
    }
   ],
   "source": [
    "from napalm import get_network_driver\n",
    "driver = get_network_driver('iso')\n",
    "device = driver('192.168.10.5','admin','Qw123456')\n",
    "device.open()"
   ]
  },
  {
   "cell_type": "code",
   "execution_count": null,
   "id": "a516f420",
   "metadata": {},
   "outputs": [],
   "source": []
  }
 ],
 "metadata": {
  "kernelspec": {
   "display_name": "Python 3 (ipykernel)",
   "language": "python",
   "name": "python3"
  },
  "language_info": {
   "codemirror_mode": {
    "name": "ipython",
    "version": 3
   },
   "file_extension": ".py",
   "mimetype": "text/x-python",
   "name": "python",
   "nbconvert_exporter": "python",
   "pygments_lexer": "ipython3",
   "version": "3.9.13"
  }
 },
 "nbformat": 4,
 "nbformat_minor": 5
}
