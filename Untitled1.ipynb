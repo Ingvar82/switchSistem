{
 "cells": [
  {
   "cell_type": "code",
   "execution_count": 2,
   "id": "059d444d",
   "metadata": {},
   "outputs": [
    {
     "name": "stdout",
     "output_type": "stream",
     "text": [
      "Requirement already satisfied: pysnmp in c:\\users\\komp\\anaconda3\\lib\\site-packages (4.4.12)\n",
      "Requirement already satisfied: pyasn1>=0.2.3 in c:\\users\\komp\\anaconda3\\lib\\site-packages (from pysnmp) (0.4.8)\n",
      "Requirement already satisfied: pycryptodomex in c:\\users\\komp\\anaconda3\\lib\\site-packages (from pysnmp) (3.16.0)\n",
      "Requirement already satisfied: pysmi in c:\\users\\komp\\anaconda3\\lib\\site-packages (from pysnmp) (0.3.4)\n",
      "Requirement already satisfied: ply in c:\\users\\komp\\anaconda3\\lib\\site-packages (from pysmi->pysnmp) (3.11)\n",
      "Note: you may need to restart the kernel to use updated packages.\n"
     ]
    }
   ],
   "source": [
    "pip install pysnmp"
   ]
  },
  {
   "cell_type": "code",
   "execution_count": 3,
   "id": "5aad9101",
   "metadata": {},
   "outputs": [],
   "source": [
    "import pysnmp "
   ]
  },
  {
   "cell_type": "code",
   "execution_count": 1,
   "id": "a5dba0a4",
   "metadata": {},
   "outputs": [
    {
     "name": "stdout",
     "output_type": "stream",
     "text": [
      "hello\n"
     ]
    }
   ],
   "source": [
    "print ('hello')"
   ]
  },
  {
   "cell_type": "code",
   "execution_count": null,
   "id": "845f4ba3",
   "metadata": {},
   "outputs": [],
   "source": []
  }
 ],
 "metadata": {
  "kernelspec": {
   "display_name": "Python 3 (ipykernel)",
   "language": "python",
   "name": "python3"
  },
  "language_info": {
   "codemirror_mode": {
    "name": "ipython",
    "version": 3
   },
   "file_extension": ".py",
   "mimetype": "text/x-python",
   "name": "python",
   "nbconvert_exporter": "python",
   "pygments_lexer": "ipython3",
   "version": "3.9.13"
  }
 },
 "nbformat": 4,
 "nbformat_minor": 5
}
